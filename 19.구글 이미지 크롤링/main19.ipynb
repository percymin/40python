{
 "cells": [
  {
   "cell_type": "code",
   "execution_count": 1,
   "metadata": {},
   "outputs": [
    {
     "name": "stderr",
     "output_type": "stream",
     "text": [
      "[WDM] - Downloading: 100%|██████████| 6.79M/6.79M [00:00<00:00, 9.47MB/s]\n",
      "C:\\Users\\user\\AppData\\Local\\Temp\\ipykernel_4740\\2065062032.py:4: DeprecationWarning: executable_path has been deprecated, please pass in a Service object\n",
      "  driver = webdriver.Chrome(ChromeDriverManager().install())\n"
     ]
    }
   ],
   "source": [
    "from webdriver_manager.chrome import ChromeDriverManager\n",
    "from selenium import webdriver\n",
    "\n",
    "driver = webdriver.Chrome(ChromeDriverManager().install())\n",
    "\n",
    "URL='https://www.google.co.kr/imghp'\n",
    "driver.get(url=URL)\n",
    "\n",
    "driver.implicitly_wait(time_to_wait=10)"
   ]
  },
  {
   "cell_type": "code",
   "execution_count": 4,
   "metadata": {},
   "outputs": [],
   "source": [
    "from selenium.webdriver.common.keys import Keys\n",
    "from selenium.webdriver.common.by import By\n",
    "\n",
    "elem = driver.find_element(By.CSS_SELECTOR,\"body > div.L3eUgb > div.o3j99.ikrT4e.om7nvf > form > div:nth-child(1) > div.A8SBwf > div.RNNXgb > div > div.a4bIc > input\")\n",
    "elem.send_keys(\"바다\")\n",
    "elem.send_keys(Keys.RETURN)"
   ]
  },
  {
   "cell_type": "code",
   "execution_count": 5,
   "metadata": {},
   "outputs": [],
   "source": [
    "import time\n",
    "elem = driver.find_element(By.TAG_NAME,\"body\")\n",
    "for i in range(60):\n",
    "\telem.send_keys(Keys.PAGE_DOWN)\n",
    "\ttime.sleep(0.1)\n",
    "\n",
    "try:\n",
    "\tdriver.find_element(By.CSS_SELECTOR,'#islmp > div > div > div > div > div.gBPM8 > div.qvfT1 > div.YstHxe > input').click()\n",
    "\n",
    "\tfor i in range(60):\n",
    "\t\telem.send_keys(Keys.PAGE_DOWN)\n",
    "\t\ttime.sleep(0.1)\n",
    "\n",
    "except:\n",
    "\tpass\n"
   ]
  },
  {
   "cell_type": "code",
   "execution_count": 10,
   "metadata": {},
   "outputs": [
    {
     "name": "stdout",
     "output_type": "stream",
     "text": [
      " 찾은 이미지 개수: 814\n"
     ]
    }
   ],
   "source": [
    "links=[] \n",
    "images = driver.find_elements(By.CSS_SELECTOR,\"#islrg > div.islrc > div > a.wXeWr.islib.nfEiy > div.bRMDJf.islir > img\")\n",
    "\n",
    "for image in images:\n",
    "    if image.get_attribute('src') is not None:\n",
    "        links.append(image.get_attribute('src'))\n",
    "        \n",
    "print(' 찾은 이미지 개수:',len(links))"
   ]
  },
  {
   "cell_type": "code",
   "execution_count": 13,
   "metadata": {},
   "outputs": [
    {
     "name": "stdout",
     "output_type": "stream",
     "text": [
      "다운로드 완료하였습니다.\n"
     ]
    }
   ],
   "source": [
    "import urllib.request\n",
    "\n",
    "for i,k in enumerate(links):\n",
    "    url = k\n",
    "    urllib.request.urlretrieve(url, \"C:\\\\파이썬과 40개의 작품들\\\\19.구글 이미지 크롤링\\\\사진다운로드\" + str(i)+\".jpg\")\n",
    "\n",
    "print('다운로드 완료하였습니다.')"
   ]
  }
 ],
 "metadata": {
  "kernelspec": {
   "display_name": "base",
   "language": "python",
   "name": "python3"
  },
  "language_info": {
   "codemirror_mode": {
    "name": "ipython",
    "version": 3
   },
   "file_extension": ".py",
   "mimetype": "text/x-python",
   "name": "python",
   "nbconvert_exporter": "python",
   "pygments_lexer": "ipython3",
   "version": "3.9.13 (main, Aug 25 2022, 23:51:50) [MSC v.1916 64 bit (AMD64)]"
  },
  "orig_nbformat": 4,
  "vscode": {
   "interpreter": {
    "hash": "a077222d77dfe082b8f1dd562ad70e458ac2ab76993a0b248ab0476e32e9e8dd"
   }
  }
 },
 "nbformat": 4,
 "nbformat_minor": 2
}
