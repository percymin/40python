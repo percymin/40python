{
 "cells": [
  {
   "cell_type": "code",
   "execution_count": 1,
   "metadata": {},
   "outputs": [
    {
     "name": "stderr",
     "output_type": "stream",
     "text": [
      "[WDM] - Downloading: 100%|██████████| 6.79M/6.79M [00:00<00:00, 9.47MB/s]\n",
      "C:\\Users\\user\\AppData\\Local\\Temp\\ipykernel_4740\\2065062032.py:4: DeprecationWarning: executable_path has been deprecated, please pass in a Service object\n",
      "  driver = webdriver.Chrome(ChromeDriverManager().install())\n"
     ]
    }
   ],
   "source": [
    "from webdriver_manager.chrome import ChromeDriverManager\n",
    "# 구글 크롬드라이버의 자동설치를 위한 라이브러리 \n",
    "from selenium import webdriver\n",
    "#크롬 드라이버의 제어를 위한 selenium라이브러리 불러오기\n",
    "\n",
    "driver = webdriver.Chrome(ChromeDriverManager().install())\n",
    "#크롬드라이버를 시작한다. 만일 설치가 안되어있으면 설치한다.\n",
    "\n",
    "URL='https://www.google.co.kr/imghp'\n",
    "driver.get(url=URL)\n",
    "#구글 이미지검색 사이트로 이동한다\n",
    "\n",
    "driver.implicitly_wait(time_to_wait=10)\n",
    "#사이트로 이동할때까지 최대 10초 기다린다."
   ]
  },
  {
   "cell_type": "code",
   "execution_count": 4,
   "metadata": {},
   "outputs": [],
   "source": [
    "from selenium.webdriver.common.keys import Keys\n",
    "#키입력을 위한 라이브러리를 불러온다\n",
    "\n",
    "from selenium.webdriver.common.by import By\n",
    "#css선택을 위한 라이브럴리를 불러온다\n",
    "\n",
    "elem = driver.find_element(By.CSS_SELECTOR,\"body > div.L3eUgb > div.o3j99.ikrT4e.om7nvf > form > div:nth-child(1) > div.A8SBwf > div.RNNXgb > div > div.a4bIc > input\")\n",
    "elem.send_keys(\"바다\")\n",
    "#검색 키워드인 바다를 입력한다\n",
    "elem.send_keys(Keys.RETURN)\n",
    "#엔터키 입력"
   ]
  },
  {
   "cell_type": "code",
   "execution_count": 5,
   "metadata": {},
   "outputs": [],
   "source": [
    "import time\n",
    "elem = driver.find_element(By.TAG_NAME,\"body\")\n",
    "#바디 부분을 찾는다\n",
    "for i in range(60):\n",
    "\telem.send_keys(Keys.PAGE_DOWN)\n",
    "\ttime.sleep(0.1)\n",
    "#for문을 이용하여 페이지다운 키를 60번 반복하게한다(사진이 계속 보이도록 하기위해서)\n",
    "\n",
    "try:\n",
    "\tdriver.find_element(By.CSS_SELECTOR,'#islmp > div > div > div > div > div.gBPM8 > div.qvfT1 > div.YstHxe > input').click()\n",
    "# 중간에 더보기 버튼이 있는지 확인\n",
    "\tfor i in range(60):\n",
    "\t\telem.send_keys(Keys.PAGE_DOWN)\n",
    "\t\ttime.sleep(0.1)\n",
    "# 더보기 버튼이 있다면 반복문을 이용하여 계속 누른다\n",
    "\n",
    "except:\n",
    "\tpass\n"
   ]
  },
  {
   "cell_type": "code",
   "execution_count": 10,
   "metadata": {},
   "outputs": [
    {
     "name": "stdout",
     "output_type": "stream",
     "text": [
      " 찾은 이미지 개수: 814\n"
     ]
    }
   ],
   "source": [
    "links=[] \n",
    "images = driver.find_elements(By.CSS_SELECTOR,\"#islrg > div.islrc > div > a.wXeWr.islib.nfEiy > div.bRMDJf.islir > img\")\n",
    "#원소의 이미지를 모두 찾는다\n",
    "\n",
    "for image in images: #이미지의 수만큼 반복문을 돌린다\n",
    "    if image.get_attribute('src') is not None: #이미지 링크 주소가 없지 않다면(즉 있다면) 참\n",
    "        links.append(image.get_attribute('src')) #이미지 다운로드 링크 주소를 첫줄 links 리스트에 추가한다\n",
    "        \n",
    "print(' 찾은 이미지 개수:',len(links))\n",
    "# 반복문이 종료되고 찾은이미지개수 : links 리스트에 있는 개수만큼 출력한다."
   ]
  },
  {
   "cell_type": "code",
   "execution_count": 13,
   "metadata": {},
   "outputs": [
    {
     "name": "stdout",
     "output_type": "stream",
     "text": [
      "다운로드 완료하였습니다.\n"
     ]
    }
   ],
   "source": [
    "import urllib.request\n",
    "#사진을 다운로드하기 위해 request 라이브러리를 불러온다.\n",
    "\n",
    "for i,k in enumerate(links): \n",
    "    url = k # k는 숫자를\n",
    "    urllib.request.urlretrieve(url, \"C:\\\\파이썬과 40개의 작품들\\\\19.구글 이미지 크롤링\\\\사진다운로드\" + str(i)+\".jpg\")\n",
    "    # i는 리스트의 원소값을 나타낸다\n",
    "\t# 사진을 다운받고 저장 경로를 지정한다.\n",
    "\n",
    "print('다운로드 완료하였습니다.')"
   ]
  }
 ],
 "metadata": {
  "kernelspec": {
   "display_name": "base",
   "language": "python",
   "name": "python3"
  },
  "language_info": {
   "codemirror_mode": {
    "name": "ipython",
    "version": 3
   },
   "file_extension": ".py",
   "mimetype": "text/x-python",
   "name": "python",
   "nbconvert_exporter": "python",
   "pygments_lexer": "ipython3",
   "version": "3.9.13"
  },
  "orig_nbformat": 4,
  "vscode": {
   "interpreter": {
    "hash": "a077222d77dfe082b8f1dd562ad70e458ac2ab76993a0b248ab0476e32e9e8dd"
   }
  }
 },
 "nbformat": 4,
 "nbformat_minor": 2
}
