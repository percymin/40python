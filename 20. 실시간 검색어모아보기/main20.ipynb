{
 "cells": [
  {
   "cell_type": "code",
   "execution_count": 6,
   "metadata": {},
   "outputs": [
    {
     "name": "stderr",
     "output_type": "stream",
     "text": [
      "C:\\Users\\user\\AppData\\Local\\Temp\\ipykernel_14808\\1716444132.py:4: DeprecationWarning: executable_path has been deprecated, please pass in a Service object\n",
      "  driver = webdriver.Chrome(ChromeDriverManager().install())\n"
     ]
    }
   ],
   "source": [
    "from webdriver_manager.chrome import ChromeDriverManager\n",
    "#구글 크롬 드라이버의 자동설치를 위한 라이브러리를 불러온다.\n",
    "from selenium import webdriver\n",
    "#크롬드라이버의 제어를 위한 selenium라이브러리를 불러온다.\n",
    "\n",
    "driver = webdriver.Chrome(ChromeDriverManager().install())\n",
    "#크롬드라이버를 실행시킨다, 없으면 설치를 한다\n",
    "\n",
    "URL='https://www.google.co.kr'\n",
    "driver.get(url=URL)\n",
    "driver.implicitly_wait(time_to_wait=10)\n",
    "#구글 사이트로 이동한다 이동까지 10초간 기다린다."
   ]
  },
  {
   "cell_type": "code",
   "execution_count": 7,
   "metadata": {},
   "outputs": [
    {
     "name": "stdout",
     "output_type": "stream",
     "text": [
      "고속도로 부산 서울\n",
      "나철\n",
      "김지영\n",
      "정이\n",
      "김기현 여성도 민방위\n",
      "이혼\n",
      "LA 총기난사로 사망\n",
      "뉴스\n",
      "손흥민\n",
      "일타 스캔들\n"
     ]
    }
   ],
   "source": [
    "from selenium.webdriver.common.by import By\n",
    "\n",
    "URL='https://signal.bz/news'\n",
    "driver.get(url=URL)\n",
    "driver.implicitly_wait(time_to_wait=10) \n",
    "# https://signal.bz/news 사이트로 이동한다.\n",
    "\n",
    "naver_results = driver.find_elements(By.CSS_SELECTOR, '#app > div > main > div > section > div > section > section:nth-child(2) > div:nth-child(2) > div > div > div > a > span.rank-text')\n",
    "#실시간 검색어 원소들을 찾는다\n",
    "\n",
    "naver_list = []\n",
    "for naver_result in naver_results:\n",
    "    print(naver_result.text)\n",
    "    naver_list.append(naver_result.text)\n",
    "#찾은 검색어 원소들을 출력하고 naver_list 리스트에 하나씩 추가한다.\n"
   ]
  },
  {
   "cell_type": "code",
   "execution_count": 8,
   "metadata": {},
   "outputs": [
    {
     "name": "stdout",
     "output_type": "stream",
     "text": [
      "김지영\n",
      "김기현 민방위 훈련\n",
      "일타 스캔들\n",
      "LA 총기난사로 사망\n",
      "이태원 유가족 설\n",
      "나철\n",
      "황교익 차례 음식은\n",
      "김신록\n",
      "윤 대통령 나경원\n",
      "\n"
     ]
    }
   ],
   "source": [
    "URL='https://www.nate.com'\n",
    "driver.get(url=URL)\n",
    "driver.implicitly_wait(time_to_wait=10)\n",
    "# 네이트 사이트로 이동\n",
    "\n",
    "driver.find_element(By.CSS_SELECTOR,'#olLiveIssueKeyword > li:nth-child(1) > a > span.txt_rank').click()\n",
    "# 실시간 검색어 원소 1위를 찾아서 클릭한다.\n",
    "\n",
    "nate_results = driver.find_elements(By.CSS_SELECTOR,'#search-option > form:nth-child(1) > fieldset > div.issue-kwd > span > a')\n",
    "# 실시간 이슈키워드를 가져온다.\n",
    "\n",
    "nate_list = []\n",
    "for nate_result in nate_results:\n",
    "    print(nate_result.text)\n",
    "    nate_list.append(nate_result.text)\n",
    "# 위와 마찬가지로 출력후 빈 리스트에 추가."
   ]
  },
  {
   "cell_type": "code",
   "execution_count": 9,
   "metadata": {},
   "outputs": [
    {
     "name": "stdout",
     "output_type": "stream",
     "text": [
      "나철\n",
      "정이\n",
      "삼남매가 용감하게\n",
      "손흥민\n",
      "이재명\n",
      "서주원\n",
      "윤정희\n",
      "이강인\n",
      "구룡마을\n",
      "지방쓰는법\n"
     ]
    }
   ],
   "source": [
    "import time\n",
    "\n",
    "URL='https://zum.com'\n",
    "driver.get(url=URL)\n",
    "driver.implicitly_wait(time_to_wait=10) \n",
    "# 줌 사이트로 이동\n",
    "\n",
    "driver.find_element(By.CSS_SELECTOR,'#app > div > header > div.search_bar > div > fieldset > div > input[type=text]').send_keys(\"아무거나 검색\")\n",
    "time.sleep(0.5)\n",
    "#검색창에 '아무거나 검색' 입력\n",
    "\n",
    "driver.find_element(By.CSS_SELECTOR,'#app > div > header > div.search_bar > div > fieldset > div > button.search').click()\n",
    "time.sleep(1)\n",
    "#검색창의 돋보기를 찾아서 클릭\n",
    "\n",
    "zoom_results = driver.find_elements(By.CSS_SELECTOR,'#issue_wrap > ul > li > div > a:nth-child(1) > span.txt')\n",
    "#실시간 검색내용 찾기\n",
    "\n",
    "zoom_list = []\n",
    "for zoom_result in zoom_results:\n",
    "    print(zoom_result.text)\n",
    "    zoom_list.append(zoom_result.text)"
   ]
  },
  {
   "cell_type": "code",
   "execution_count": 10,
   "metadata": {},
   "outputs": [
    {
     "name": "stdout",
     "output_type": "stream",
     "text": [
      "네이버 ['고속도로 부산 서울', '나철', '김지영', '정이', '김기현 여성도 민방위', '이혼', 'LA 총기난사로 사망', '뉴스', '손흥민', '일타 스캔들']\n",
      "네이트 ['김지영', '김기현 민방위 훈련', '일타 스캔들', 'LA 총기난사로 사망', '이태원 유가족 설', '나철', '황교익 차례 음식은', '김신록', '윤 대통령 나경원', '']\n",
      "줌 ['나철', '정이', '삼남매가 용감하게', '손흥민', '이재명', '서주원', '윤정희', '이강인', '구룡마을', '지방쓰는법']\n"
     ]
    }
   ],
   "source": [
    "print(\"네이버\",naver_list)\n",
    "print(\"네이트\",nate_list)\n",
    "print(\"줌\",zoom_list)\n",
    "#위에 만들었던 3개 각각의 리스트를 출력"
   ]
  }
 ],
 "metadata": {
  "kernelspec": {
   "display_name": "base",
   "language": "python",
   "name": "python3"
  },
  "language_info": {
   "codemirror_mode": {
    "name": "ipython",
    "version": 3
   },
   "file_extension": ".py",
   "mimetype": "text/x-python",
   "name": "python",
   "nbconvert_exporter": "python",
   "pygments_lexer": "ipython3",
   "version": "3.9.13"
  },
  "orig_nbformat": 4,
  "vscode": {
   "interpreter": {
    "hash": "a077222d77dfe082b8f1dd562ad70e458ac2ab76993a0b248ab0476e32e9e8dd"
   }
  }
 },
 "nbformat": 4,
 "nbformat_minor": 2
}
