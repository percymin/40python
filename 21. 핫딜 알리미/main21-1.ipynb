{
 "cells": [
  {
   "cell_type": "code",
   "execution_count": 1,
   "metadata": {},
   "outputs": [
    {
     "name": "stderr",
     "output_type": "stream",
     "text": [
      "[WDM] - Downloading: 100%|██████████| 6.79M/6.79M [00:00<00:00, 12.3MB/s]\n",
      "C:\\Users\\user\\AppData\\Local\\Temp\\ipykernel_7824\\1979250293.py:6: DeprecationWarning: executable_path has been deprecated, please pass in a Service object\n",
      "  driver = webdriver.Chrome(ChromeDriverManager().install())\n"
     ]
    }
   ],
   "source": [
    "from webdriver_manager.chrome import ChromeDriverManager\n",
    "# 크롬 드라이버 자동설치 라이브러리\n",
    "from selenium import webdriver\n",
    "# 드라이버 제어하는 라이브러리 \n",
    "\n",
    "driver = webdriver.Chrome(ChromeDriverManager().install())\n",
    "#드라이버 시작\n",
    "\n",
    "driver.get(url='https://www.ppomppu.co.kr/zboard/zboard.php?id=ppomppu')\n",
    "driver.implicitly_wait(time_to_wait=10)\n",
    "# 뽐뿌 사이트 접속"
   ]
  },
  {
   "cell_type": "code",
   "execution_count": 3,
   "metadata": {},
   "outputs": [
    {
     "name": "stdout",
     "output_type": "stream",
     "text": [
      "[하우스앱] 삼성전자 그랑데AI 드럼세탁기 WF24T8500KV (944,000원/무배)\n",
      "https://www.ppomppu.co.kr/zboard/view.php?id=ppomppu&page=1&divpage=76&no=451839\n"
     ]
    }
   ],
   "source": [
    "from selenium.webdriver.common.by import By\n",
    "\n",
    "# 게시글 제목과 링크를 찾아온다\n",
    "titles = driver.find_elements(By.CSS_SELECTOR,'#revolution_main_table > tbody > tr:nth-child(15) > td:nth-child(3) > table > tbody > tr > td:nth-child(2) > div > a > font')\n",
    "urls = driver.find_elements(By.CSS_SELECTOR,'#revolution_main_table > tbody > tr:nth-child(15) > td:nth-child(3) > table > tbody > tr > td:nth-child(2) > div > a')\n",
    "\n",
    "#제목과 링크를 출력한다\n",
    "for i in range(len(titles)):\n",
    "    print(titles[i].text)\n",
    "    print(urls[i].get_attribute('href'))\n"
   ]
  },
  {
   "cell_type": "code",
   "execution_count": null,
   "metadata": {},
   "outputs": [],
   "source": [
    "import telegram\n",
    "message=\"\"\n",
    "for i in range(len(titles)):\n",
    "    if \"세탁기\" in titles[i].text:\n",
    "        message = titles[i].text + \"\\n\"+urls[i].get_attribute('href')\n",
    "        print(message)\n",
    "        token = '5863921919:AAEu0y9RotBmdf-klgmkZJ3OJk6OnGgit7o'\n",
    "        id = \"5920401541\"\n",
    "        bot = telegram.Bot(token)\n",
    "        bot.sendMessage(chat_id=id, text=message)"
   ]
  }
 ],
 "metadata": {
  "kernelspec": {
   "display_name": "base",
   "language": "python",
   "name": "python3"
  },
  "language_info": {
   "codemirror_mode": {
    "name": "ipython",
    "version": 3
   },
   "file_extension": ".py",
   "mimetype": "text/x-python",
   "name": "python",
   "nbconvert_exporter": "python",
   "pygments_lexer": "ipython3",
   "version": "3.9.13"
  },
  "orig_nbformat": 4,
  "vscode": {
   "interpreter": {
    "hash": "a077222d77dfe082b8f1dd562ad70e458ac2ab76993a0b248ab0476e32e9e8dd"
   }
  }
 },
 "nbformat": 4,
 "nbformat_minor": 2
}
